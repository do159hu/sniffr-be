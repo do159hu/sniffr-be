{
 "cells": [
  {
   "cell_type": "code",
   "execution_count": null,
   "metadata": {},
   "outputs": [],
   "source": []
  },
  {
   "cell_type": "code",
   "execution_count": 10,
   "metadata": {},
   "outputs": [],
   "source": [
    "from sqlalchemy import create_engine\n",
    "from models import Dog, User\n",
    "import os\n",
    "from sqlalchemy.orm import sessionmaker\n",
    "\n",
    "\n",
    "engine = create_engine('sqlite:///sniffrdb.db')\n",
    "\n",
    "Session = sessionmaker(bind = engine)\n",
    "session = Session()\n",
    "\n",
    "# Add Dog\n",
    "new_dog = Dog(\n",
    "    dog_name = 'Siri',\n",
    "    user_id=1,\n",
    "    breed_id=1,\n",
    "    size_id=1,\n",
    "    temperament_id=1,\n",
    "    age=8,\n",
    "    sex='Female',\n",
    "    is_vaccinated=True,\n",
    "    is_fixed=True,\n",
    "    dog_bio='!1111',\n",
    "    dog_pic='!1111'\n",
    ")\n",
    "\n",
    "\n",
    "session.add(new_dog)\n",
    "session.commit()"
   ]
  },
  {
   "cell_type": "code",
   "execution_count": 11,
   "metadata": {},
   "outputs": [
    {
     "data": {
      "text/plain": [
       "1"
      ]
     },
     "execution_count": 11,
     "metadata": {},
     "output_type": "execute_result"
    }
   ],
   "source": [
    "new_dog.dog_id"
   ]
  },
  {
   "cell_type": "code",
   "execution_count": null,
   "metadata": {},
   "outputs": [],
   "source": [
    "from sqlalchemy import create_engine\n",
    "from models import Dog, User\n",
    "import os\n",
    "from sqlalchemy.orm import sessionmaker\n",
    "\n",
    "def seed_db_user():\n",
    "    engine = create_engine('sqlite:///sniffrdb.db')\n",
    "\n",
    "    Session = sessionmaker(bind = engine)\n",
    "    session = Session()\n",
    "\n",
    "    # Add user\n",
    "    session.add(User(username=\"jon\", email=\"jon@sniffr.be\", password=\"spice\"))\n",
    "    session.commit()\n",
    "\n",
    "    # Add user\n",
    "    session.add(User(username=\"dan\", email=\"dan@sniffr.be\", password=\"blue\"))\n",
    "    session.commit()\n",
    "\n",
    "    # Add user\n",
    "    session.add(User(username=\"josh\", email=\"josh@sniffr.be\", password=\"apple\"))\n",
    "    session.commit()\n",
    "\n",
    "    # Add user\n",
    "    session.add(User(username=\"allie\", email=\"allie@sniffr.be\", password=\"lalala\"))\n",
    "    session.commit()\n",
    "\n",
    "    # Add user\n",
    "    session.add(User(username=\"mashima\", email=\"mashima@sniffr.be\", password=\"noob\"))\n",
    "    session.commit()\n",
    "\n",
    "def check_results():\n",
    "    Session = sessionmaker(bind = engine)\n",
    "    session = Session()\n",
    "    result = session.query(User).all()\n",
    "    for row in result:\n",
    "        print(\"Name: \",row.username, \"PW:\",row.password, \"Email:\",row.email, \"ID:\",row.user_id)\n",
    "seed_db_user()\n",
    "check_results()"
   ]
  },
  {
   "cell_type": "code",
   "execution_count": null,
   "metadata": {},
   "outputs": [],
   "source": [
    "# # Add Dog\n",
    "session.add(Dog(user_id=1, dog_name=\"augie\", breed_id=1))\n",
    "session.commit()"
   ]
  },
  {
   "cell_type": "code",
   "execution_count": null,
   "metadata": {},
   "outputs": [],
   "source": [
    "result = session.query(Dog).all()\n",
    "for row in result:\n",
    "   print (\"Name: \",row.dog_name, \"Owner:\",row.owner.username, \"ID:\",row.dog_id)"
   ]
  },
  {
   "cell_type": "code",
   "execution_count": null,
   "metadata": {},
   "outputs": [],
   "source": [
    "import requests\n",
    "\n",
    "url = 'http://127.0.0.1:5000/all_dogs'\n",
    "x = requests.get(url)\n",
    "\n",
    "\n",
    "print(x.text)"
   ]
  },
  {
   "cell_type": "code",
   "execution_count": null,
   "metadata": {},
   "outputs": [],
   "source": [
    "import requests\n",
    "\n",
    "# url = 'http://10.0.0.7:8000/login'\n",
    "url = 'http://127.0.0.1:5000/login'\n",
    "myobj = {'email': 'jon@sniffr.be', 'password': 'spice'}\n",
    "\n",
    "x = requests.post(url, json = myobj)\n",
    "\n",
    "\n",
    "print(x.text)"
   ]
  },
  {
   "cell_type": "code",
   "execution_count": null,
   "metadata": {},
   "outputs": [],
   "source": [
    "os.urandom(24)"
   ]
  },
  {
   "cell_type": "code",
   "execution_count": null,
   "metadata": {},
   "outputs": [],
   "source": [
    "# session.rollback()"
   ]
  }
 ],
 "metadata": {
  "kernelspec": {
   "display_name": "Python 3.10.2 ('sniffr-be-g5awbeMX')",
   "language": "python",
   "name": "python3"
  },
  "language_info": {
   "codemirror_mode": {
    "name": "ipython",
    "version": 3
   },
   "file_extension": ".py",
   "mimetype": "text/x-python",
   "name": "python",
   "nbconvert_exporter": "python",
   "pygments_lexer": "ipython3",
   "version": "3.10.2"
  },
  "orig_nbformat": 4,
  "vscode": {
   "interpreter": {
    "hash": "aa020539506bdda3b2c25e9f0eb552606ef47522c1f8fb5142cbb2c4061c23cb"
   }
  }
 },
 "nbformat": 4,
 "nbformat_minor": 2
}
